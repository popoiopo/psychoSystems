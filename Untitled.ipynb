{
 "cells": [
  {
   "cell_type": "code",
   "execution_count": 1,
   "metadata": {},
   "outputs": [],
   "source": [
    "import pandas as pd\n",
    "import numpy as np\n",
    "import cPickle\n",
    "import networkx as nx\n",
    "import json\n",
    "import matplotlib.pyplot as plt\n",
    "import pickle\n",
    "%matplotlib inline"
   ]
  },
  {
   "cell_type": "code",
   "execution_count": 24,
   "metadata": {},
   "outputs": [],
   "source": [
    "class adjacencyData:\n",
    "    def __init__(self, G):\n",
    "        self.var = G.nodes\n",
    "        print(G.nodes)\n",
    "        self.thresholdIndex = []\n",
    "        for node in G.nodes:\n",
    "            try:\n",
    "                temp = {node : G.nodes[node][\"threshold\"]}\n",
    "            except KeyError:\n",
    "                temp = {node : 0}\n",
    "            self.thresholdIndex.append(temp)\n",
    "            \n",
    "        self.adjacencyMatrix = nx.to_numpy_matrix(G)\n",
    "        self.graphData = G\n",
    "        \n",
    "    def plotGraph(self):\n",
    "        elarge = [(u, v) for (u, v, d) in self.graphData.edges(data=True) if d['weight'] > 0.5]\n",
    "        esmall = [(u, v) for (u, v, d) in self.graphData.edges(data=True) if d['weight'] <= 0.5]\n",
    "\n",
    "        pos = nx.spring_layout(self.graphData)  # positions for all nodes\n",
    "        nx.draw_networkx_nodes(self.graphData, pos, node_size=100)\n",
    "        nx.draw_networkx_edges(self.graphData, pos, edgelist=elarge, width=2)\n",
    "        nx.draw_networkx_edges(self.graphData, pos, edgelist=esmall, width=1, alpha=0.5, edge_color='b')\n",
    "        nx.draw_networkx_labels(self.graphData, pos, font_size=10, font_family='sans-serif')\n",
    "\n",
    "        plt.axis('off')\n",
    "        plt.show()\n",
    "\n",
    "def convert(input):\n",
    "    if isinstance(input, dict):\n",
    "        return {convert(key): convert(value) for key, value in input.iteritems()}\n",
    "    elif isinstance(input, list):\n",
    "        return [convert(element) for element in input]\n",
    "    elif isinstance(input, unicode):\n",
    "        return input.encode('utf-8')\n",
    "    else:\n",
    "        return input"
   ]
  },
  {
   "cell_type": "code",
   "execution_count": 41,
   "metadata": {},
   "outputs": [
    {
     "name": "stdout",
     "output_type": "stream",
     "text": [
      "[1, 2, 3, 4, 5, 6, 7, 8, 9, 10, 11, 12, 13, 14, 15, 16]\n"
     ]
    }
   ],
   "source": [
    "filename = \"depression_network_data.json\"\n",
    "with open(filename, 'r') as f:\n",
    "    data = convert(json.load(f))\n",
    "# print(data[\"nodes\"])\n",
    "G = nx.DiGraph()\n",
    "G.add_nodes_from([(data[\"nodes\"][node][\"id\"], {\"threshold\": data[\"nodes\"][node][\"threshold\"]}) for node in data[\"nodes\"]])\n",
    "edges = [(int(data[\"edges\"][node][\"from\"]), int(data[\"edges\"][node][\"to\"]), {\"weight\":data[\"edges\"][node][\"relation_weight\"]}) if data[\"edges\"][node][\"relation_weight\"] != \"None\" else (int(data[\"edges\"][node][\"from\"]), int(data[\"edges\"][node][\"to\"]), {\"weight\":1}) for node in data[\"edges\"]]\n",
    "G.add_edges_from(edges)\n",
    "print(G.nodes)\n",
    "nx.write_gpickle(G, 'depression_network_data.pkl')\n"
   ]
  },
  {
   "cell_type": "code",
   "execution_count": 42,
   "metadata": {},
   "outputs": [
    {
     "name": "stdout",
     "output_type": "stream",
     "text": [
      "[1, 2, 3, 4, 5, 6, 7, 8, 9, 10, 11, 12, 13, 14, 15, 16]\n",
      "[1, 2, 3, 4, 5, 6, 7, 8, 9, 10, 11, 12, 13, 14, 15, 16]\n",
      "16\n"
     ]
    },
    {
     "data": {
      "image/png": "[encoded data removed]",
      "text/plain": [
       "<Figure size 432x288 with 1 Axes>"
      ]
     },
     "metadata": {
      "needs_background": "light"
     },
     "output_type": "display_data"
    }
   ],
   "source": [
    "y = nx.read_gpickle('depression_network_data.pkl')\n",
    "print(y.nodes)\n",
    "data = adjacencyData(convert(y))\n",
    "print(len(data.var))\n",
    "data.plotGraph()"
   ]
  },
  {
   "cell_type": "code",
   "execution_count": null,
   "metadata": {},
   "outputs": [],
   "source": [
    "\n",
    "for k in data.thresholdIndex:\n",
    "    print(str(k.keys()[0]) + \"\\t\" + str(k[k.keys()[0]]) + \"\\n\")"
   ]
  },
  {
   "cell_type": "code",
   "execution_count": null,
   "metadata": {},
   "outputs": [],
   "source": [
    "string = \"\"\n",
    "file = open(\"test.txt\", \"w\")\n",
    "string += \"\\t\".join([d for d in data.var]) + \"\\n\"\n",
    "for row in data.adjacencyMatrix.tolist():\n",
    "    string += \"\\t\".join(['{:.1f}'.format(x) for x in row])+\"\\n\"\n",
    "file.write(string)\n",
    "file.close()\n",
    "\n",
    "string = \"\"\n",
    "file = open(\"tweede.txt\", \"w\")\n",
    "string += \"var,threshold\\n\"\n",
    "for k in data.thresholdIndex:\n",
    "    string += str(k.keys()[0]) + \", \" + str(k[k.keys()[0]]) + \"\\n\"\n",
    "file.write(string)\n",
    "file.close()\n",
    "    "
   ]
  },
  {
   "cell_type": "code",
   "execution_count": null,
   "metadata": {},
   "outputs": [],
   "source": [
    "for row in data.adjacencyMatrix.tolist():\n",
    "    print(\"\\t\".join(['{:.1f}'.format(x) for x in row]))"
   ]
  }
 ],
 "metadata": {
  "kernelspec": {
   "display_name": "Python 2",
   "language": "python",
   "name": "python2"
  },
  "language_info": {
   "codemirror_mode": {
    "name": "ipython",
    "version": 2
   },
   "file_extension": ".py",
   "mimetype": "text/x-python",
   "name": "python",
   "nbconvert_exporter": "python",
   "pygments_lexer": "ipython2",
   "version": "2.7.12"
  }
 },
 "nbformat": 4,
 "nbformat_minor": 2
}
