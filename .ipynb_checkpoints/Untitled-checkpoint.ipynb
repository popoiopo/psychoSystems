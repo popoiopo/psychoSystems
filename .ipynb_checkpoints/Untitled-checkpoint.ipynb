{
 "cells": [
  {
   "cell_type": "code",
   "execution_count": 1,
   "metadata": {},
   "outputs": [],
   "source": [
    "import pandas as pd\n",
    "import json\n",
    "\n",
    "def createJSON(data):\n",
    "    jsonData = {\"Name\" : \"flare\", \"children\" : []}\n",
    "\n",
    "    check = set([])\n",
    "\n",
    "    for index, row in data.iterrows():\n",
    "        people = row.People if pd.notna(row.People) else \"Empty\"\n",
    "        try:\n",
    "            size = row.publications if pd.notna(row.publications) else len(row.People.split(',')) * 10\n",
    "        except AttributeError:\n",
    "            size = row.publications if pd.notna(row.publications) else 2\n",
    "        if row.modules not in check and pd.notna(row.modules):\n",
    "            jsonData[\"children\"].append({\"name\":row.modules, \"children\": []})\n",
    "            check.add(row.modules)\n",
    "        \n",
    "        for mod in jsonData[\"children\"]:\n",
    "            if row.discipline not in check and mod[\"name\"] == row.modules and pd.notna(row.discipline):\n",
    "                mod[\"children\"].append({\"name\":row.discipline, \"children\": []})\n",
    "                check.add(row.discipline)\n",
    "            elif not pd.notna(row.discipline) and mod[\"name\"] == row.modules:\n",
    "                try:\n",
    "                    mod[\"children\"].append({\"name\":row.subdivision, \"children\":[], \"size\":size, \"people\":[people.split(',')]})\n",
    "\n",
    "                except AttributeError:\n",
    "                    mod[\"children\"].append({\"name\":row.subdivision, \"children\":[], \"size\":row.publications, \"people\":[people]})\n",
    "            elif row.discipline == \"Undefined\" and mod[\"name\"] == row.modules:\n",
    "                mod[\"children\"].append({\"name\":row.subdivision, \"children\":[], \"size\":size, \"people\":[people]})        \n",
    "            \n",
    "            for disc in mod[\"children\"]:\n",
    "                if row.subdivision not in check and disc[\"name\"] == row.discipline and pd.notna(row.subdivision):\n",
    "                    try:\n",
    "                        disc[\"children\"].append({\"name\":row.subdivision, \"children\":[], \"size\":size, \"people\":[people.split(',')]})\n",
    "                    except AttributeError:\n",
    "                        disc[\"children\"].append({\"name\":row.subdivision, \"children\":[], \"size\":size, \"people\":[people]})\n",
    "\n",
    "\n",
    "    for listItems in jsonData[\"children\"]:\n",
    "        for module in listItems[\"children\"]:\n",
    "            try:\n",
    "                try:\n",
    "                    for person in module[\"people\"][0].split(\",\"):\n",
    "                        module[\"children\"].append({\"name\": person, \"size\":20})\n",
    "                except AttributeError:\n",
    "                    module[\"children\"].append({\"name\": module[\"people\"][0][0], \"size\":20})\n",
    "            except KeyError:\n",
    "                for subdomain in module[\"children\"]:\n",
    "                    try:\n",
    "                        try:\n",
    "                            for person in subdomain[\"people\"][0]:\n",
    "                                subdomain[\"children\"].append({\"name\": person, \"size\":20})\n",
    "                        except AttributeError:\n",
    "                            subdomain[\"children\"].append({\"name\": subdomain[\"people\"][0], \"size\":20})\n",
    "                    except KeyError:\n",
    "                        pass\n",
    "\n",
    "    output = json.dumps(jsonData, indent=2)\n",
    "    return json.loads(output)\n",
    "                        "
   ]
  },
  {
   "cell_type": "code",
   "execution_count": 2,
   "metadata": {},
   "outputs": [
    {
     "ename": "IOError",
     "evalue": "[Errno 2] No such file or directory: 'circlePacking.pkl'",
     "output_type": "error",
     "traceback": [
      "\u001b[0;31m---------------------------------------------------------------------------\u001b[0m",
      "\u001b[0;31mIOError\u001b[0m                                   Traceback (most recent call last)",
      "\u001b[0;32m<ipython-input-2-373fe4bef91f>\u001b[0m in \u001b[0;36m<module>\u001b[0;34m()\u001b[0m\n\u001b[1;32m      1\u001b[0m \u001b[0mfilename\u001b[0m \u001b[0;34m=\u001b[0m \u001b[0;34m\"circlePacking.pkl\"\u001b[0m\u001b[0;34m\u001b[0m\u001b[0m\n\u001b[0;32m----> 2\u001b[0;31m \u001b[0mdata\u001b[0m \u001b[0;34m=\u001b[0m \u001b[0mpd\u001b[0m\u001b[0;34m.\u001b[0m\u001b[0mread_pickle\u001b[0m\u001b[0;34m(\u001b[0m\u001b[0mfilename\u001b[0m\u001b[0;34m)\u001b[0m\u001b[0;34m\u001b[0m\u001b[0m\n\u001b[0m",
      "\u001b[0;32m/home/bdlc/Envs/psychoSite/local/lib/python2.7/site-packages/pandas/io/pickle.pyc\u001b[0m in \u001b[0;36mread_pickle\u001b[0;34m(path, compression)\u001b[0m\n\u001b[1;32m    175\u001b[0m                     lambda f: pc.load(f, encoding=encoding, compat=True))\n\u001b[1;32m    176\u001b[0m     \u001b[0;32mtry\u001b[0m\u001b[0;34m:\u001b[0m\u001b[0;34m\u001b[0m\u001b[0m\n\u001b[0;32m--> 177\u001b[0;31m         \u001b[0;32mreturn\u001b[0m \u001b[0mtry_read\u001b[0m\u001b[0;34m(\u001b[0m\u001b[0mpath\u001b[0m\u001b[0;34m)\u001b[0m\u001b[0;34m\u001b[0m\u001b[0m\n\u001b[0m\u001b[1;32m    178\u001b[0m     \u001b[0;32mexcept\u001b[0m\u001b[0;34m:\u001b[0m\u001b[0;34m\u001b[0m\u001b[0m\n\u001b[1;32m    179\u001b[0m         \u001b[0;32mif\u001b[0m \u001b[0mPY3\u001b[0m\u001b[0;34m:\u001b[0m\u001b[0;34m\u001b[0m\u001b[0m\n",
      "\u001b[0;32m/home/bdlc/Envs/psychoSite/local/lib/python2.7/site-packages/pandas/io/pickle.pyc\u001b[0m in \u001b[0;36mtry_read\u001b[0;34m(path, encoding)\u001b[0m\n\u001b[1;32m    173\u001b[0m             \u001b[0;32mexcept\u001b[0m\u001b[0;34m:\u001b[0m\u001b[0;34m\u001b[0m\u001b[0m\n\u001b[1;32m    174\u001b[0m                 return read_wrapper(\n\u001b[0;32m--> 175\u001b[0;31m                     lambda f: pc.load(f, encoding=encoding, compat=True))\n\u001b[0m\u001b[1;32m    176\u001b[0m     \u001b[0;32mtry\u001b[0m\u001b[0;34m:\u001b[0m\u001b[0;34m\u001b[0m\u001b[0m\n\u001b[1;32m    177\u001b[0m         \u001b[0;32mreturn\u001b[0m \u001b[0mtry_read\u001b[0m\u001b[0;34m(\u001b[0m\u001b[0mpath\u001b[0m\u001b[0;34m)\u001b[0m\u001b[0;34m\u001b[0m\u001b[0m\n",
      "\u001b[0;32m/home/bdlc/Envs/psychoSite/local/lib/python2.7/site-packages/pandas/io/pickle.pyc\u001b[0m in \u001b[0;36mread_wrapper\u001b[0;34m(func)\u001b[0m\n\u001b[1;32m    145\u001b[0m         f, fh = _get_handle(path, 'rb',\n\u001b[1;32m    146\u001b[0m                             \u001b[0mcompression\u001b[0m\u001b[0;34m=\u001b[0m\u001b[0minferred_compression\u001b[0m\u001b[0;34m,\u001b[0m\u001b[0;34m\u001b[0m\u001b[0m\n\u001b[0;32m--> 147\u001b[0;31m                             is_text=False)\n\u001b[0m\u001b[1;32m    148\u001b[0m         \u001b[0;32mtry\u001b[0m\u001b[0;34m:\u001b[0m\u001b[0;34m\u001b[0m\u001b[0m\n\u001b[1;32m    149\u001b[0m             \u001b[0;32mreturn\u001b[0m \u001b[0mfunc\u001b[0m\u001b[0;34m(\u001b[0m\u001b[0mf\u001b[0m\u001b[0;34m)\u001b[0m\u001b[0;34m\u001b[0m\u001b[0m\n",
      "\u001b[0;32m/home/bdlc/Envs/psychoSite/local/lib/python2.7/site-packages/pandas/io/common.pyc\u001b[0m in \u001b[0;36m_get_handle\u001b[0;34m(path_or_buf, mode, encoding, compression, memory_map, is_text)\u001b[0m\n\u001b[1;32m    395\u001b[0m         \u001b[0;32mif\u001b[0m \u001b[0mcompat\u001b[0m\u001b[0;34m.\u001b[0m\u001b[0mPY2\u001b[0m\u001b[0;34m:\u001b[0m\u001b[0;34m\u001b[0m\u001b[0m\n\u001b[1;32m    396\u001b[0m             \u001b[0;31m# Python 2\u001b[0m\u001b[0;34m\u001b[0m\u001b[0;34m\u001b[0m\u001b[0m\n\u001b[0;32m--> 397\u001b[0;31m             \u001b[0mf\u001b[0m \u001b[0;34m=\u001b[0m \u001b[0mopen\u001b[0m\u001b[0;34m(\u001b[0m\u001b[0mpath_or_buf\u001b[0m\u001b[0;34m,\u001b[0m \u001b[0mmode\u001b[0m\u001b[0;34m)\u001b[0m\u001b[0;34m\u001b[0m\u001b[0m\n\u001b[0m\u001b[1;32m    398\u001b[0m         \u001b[0;32melif\u001b[0m \u001b[0mencoding\u001b[0m\u001b[0;34m:\u001b[0m\u001b[0;34m\u001b[0m\u001b[0m\n\u001b[1;32m    399\u001b[0m             \u001b[0;31m# Python 3 and encoding\u001b[0m\u001b[0;34m\u001b[0m\u001b[0;34m\u001b[0m\u001b[0m\n",
      "\u001b[0;31mIOError\u001b[0m: [Errno 2] No such file or directory: 'circlePacking.pkl'"
     ]
    }
   ],
   "source": [
    "filename = \"development.pkl\"\n",
    "data = pd.read_pickle(filename)"
   ]
  }
 ],
 "metadata": {
  "kernelspec": {
   "display_name": "Python 2",
   "language": "python",
   "name": "python2"
  },
  "language_info": {
   "codemirror_mode": {
    "name": "ipython",
    "version": 2
   },
   "file_extension": ".py",
   "mimetype": "text/x-python",
   "name": "python",
   "nbconvert_exporter": "python",
   "pygments_lexer": "ipython2",
   "version": "2.7.12"
  }
 },
 "nbformat": 4,
 "nbformat_minor": 2
}
