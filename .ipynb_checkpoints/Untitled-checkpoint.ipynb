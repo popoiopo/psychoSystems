{
 "cells": [
  {
   "cell_type": "code",
   "execution_count": 1,
   "metadata": {},
   "outputs": [],
   "source": [
    "import pandas as pd\n",
<<<<<<< HEAD
    "import json\n",
    "\n",
    "def createJSON(data):\n",
    "    jsonData = {\"Name\" : \"flare\", \"children\" : []}\n",
    "\n",
    "    check = set([])\n",
    "\n",
    "    for index, row in data.iterrows():\n",
    "        people = row.People if pd.notna(row.People) else \"Empty\"\n",
    "        try:\n",
    "            size = row.publications if pd.notna(row.publications) else len(row.People.split(',')) * 10\n",
    "        except AttributeError:\n",
    "            size = row.publications if pd.notna(row.publications) else 2\n",
    "        if row.modules not in check and pd.notna(row.modules):\n",
    "            jsonData[\"children\"].append({\"name\":row.modules, \"children\": []})\n",
    "            check.add(row.modules)\n",
    "        \n",
    "        for mod in jsonData[\"children\"]:\n",
    "            if row.discipline not in check and mod[\"name\"] == row.modules and pd.notna(row.discipline):\n",
    "                mod[\"children\"].append({\"name\":row.discipline, \"children\": []})\n",
    "                check.add(row.discipline)\n",
    "            elif not pd.notna(row.discipline) and mod[\"name\"] == row.modules:\n",
    "                try:\n",
    "                    mod[\"children\"].append({\"name\":row.subdivision, \"children\":[], \"size\":size, \"people\":[people.split(',')]})\n",
    "\n",
    "                except AttributeError:\n",
    "                    mod[\"children\"].append({\"name\":row.subdivision, \"children\":[], \"size\":row.publications, \"people\":[people]})\n",
    "            elif row.discipline == \"Undefined\" and mod[\"name\"] == row.modules:\n",
    "                mod[\"children\"].append({\"name\":row.subdivision, \"children\":[], \"size\":size, \"people\":[people]})        \n",
    "            \n",
    "            for disc in mod[\"children\"]:\n",
    "                if row.subdivision not in check and disc[\"name\"] == row.discipline and pd.notna(row.subdivision):\n",
    "                    try:\n",
    "                        disc[\"children\"].append({\"name\":row.subdivision, \"children\":[], \"size\":size, \"people\":[people.split(',')]})\n",
    "                    except AttributeError:\n",
    "                        disc[\"children\"].append({\"name\":row.subdivision, \"children\":[], \"size\":size, \"people\":[people]})\n",
    "\n",
    "\n",
    "    for listItems in jsonData[\"children\"]:\n",
    "        for module in listItems[\"children\"]:\n",
    "            try:\n",
    "                try:\n",
    "                    for person in module[\"people\"][0].split(\",\"):\n",
    "                        module[\"children\"].append({\"name\": person, \"size\":20})\n",
    "                except AttributeError:\n",
    "                    module[\"children\"].append({\"name\": module[\"people\"][0][0], \"size\":20})\n",
    "            except KeyError:\n",
    "                for subdomain in module[\"children\"]:\n",
    "                    try:\n",
    "                        try:\n",
    "                            for person in subdomain[\"people\"][0]:\n",
    "                                subdomain[\"children\"].append({\"name\": person, \"size\":20})\n",
    "                        except AttributeError:\n",
    "                            subdomain[\"children\"].append({\"name\": subdomain[\"people\"][0], \"size\":20})\n",
    "                    except KeyError:\n",
    "                        pass\n",
    "\n",
    "    output = json.dumps(jsonData, indent=2)\n",
    "    return json.loads(output)\n",
    "                        "
=======
    "import numpy as np\n",
    "import cPickle\n",
    "import networkx as nx\n",
    "import json\n",
    "import matplotlib.pyplot as plt\n",
    "import pickle\n",
    "%matplotlib inline"
   ]
  },
  {
   "cell_type": "code",
   "execution_count": 10,
   "metadata": {},
   "outputs": [],
   "source": [
    "class adjacencyData:\n",
    "    def __init__(self, G):\n",
    "        self.var = G.nodes\n",
    "        print(G.nodes)\n",
    "        self.thresholdIndex = []\n",
    "        for node in G.nodes:\n",
    "            try:\n",
    "                temp = {node : G.nodes[node][\"threshold\"]}\n",
    "            except KeyError:\n",
    "                temp = {node : 0}\n",
    "            self.thresholdIndex.append(temp)\n",
    "            \n",
    "        self.adjacencyMatrix = nx.to_numpy_matrix(G)\n",
    "        self.graphData = G\n",
    "        \n",
    "    def plotGraph(self):\n",
    "        elarge = [(u, v) for (u, v, d) in self.graphData.edges(data=True) if d['weight'] > 0.5]\n",
    "        esmall = [(u, v) for (u, v, d) in self.graphData.edges(data=True) if d['weight'] <= 0.5]\n",
    "\n",
    "        pos = nx.spring_layout(self.graphData)  # positions for all nodes\n",
    "        nx.draw_networkx_nodes(self.graphData, pos, node_size=100)\n",
    "        nx.draw_networkx_edges(self.graphData, pos, edgelist=elarge, width=2)\n",
    "        nx.draw_networkx_edges(self.graphData, pos, edgelist=esmall, width=1, alpha=0.5, edge_color='b')\n",
    "        nx.draw_networkx_labels(self.graphData, pos, font_size=10, font_family='sans-serif')\n",
    "\n",
    "        plt.axis('off')\n",
    "        plt.show()\n",
    "    "
   ]
  },
  {
   "cell_type": "code",
   "execution_count": 13,
   "metadata": {},
   "outputs": [
    {
     "name": "stdout",
     "output_type": "stream",
     "text": [
      "{u'nodes': {u'11': {u'sup_lit': None, u'temp_imp_id': u'None', u'notes': u'None', u'created_date': u'None', u'label': u'Baseline_depression_symptoms11', u'y': None, u'x': None, u'notes_factor': u'None', u'threshold': 0, u'temp_aspect_id': u'None', u'id': 11}, u'10': {u'sup_lit': None, u'temp_imp_id': u'None', u'notes': u'None', u'created_date': u'None', u'label': u'Sex10', u'y': None, u'x': None, u'notes_factor': u'None', u'threshold': 0, u'temp_aspect_id': u'None', u'id': 10}, u'13': {u'sup_lit': None, u'temp_imp_id': u'None', u'notes': u'None', u'created_date': u'None', u'label': u'Immunology_markers13', u'y': None, u'x': None, u'notes_factor': u'None', u'threshold': 0, u'temp_aspect_id': u'None', u'id': 13}, u'12': {u'sup_lit': None, u'temp_imp_id': u'None', u'notes': u'None', u'created_date': u'None', u'label': u'Latent_dysfunctional_cognition12', u'y': None, u'x': None, u'notes_factor': u'None', u'threshold': 0, u'temp_aspect_id': u'None', u'id': 12}, u'15': {u'sup_lit': None, u'temp_imp_id': u'None', u'notes': u'None', u'created_date': u'None', u'label': u'C_reactive_protein15', u'y': None, u'x': None, u'notes_factor': u'None', u'threshold': 0, u'temp_aspect_id': u'None', u'id': 15}, u'14': {u'sup_lit': None, u'temp_imp_id': u'None', u'notes': u'None', u'created_date': u'None', u'label': u'Cortisol14', u'y': None, u'x': None, u'notes_factor': u'None', u'threshold': 0, u'temp_aspect_id': u'None', u'id': 14}, u'16': {u'sup_lit': None, u'temp_imp_id': u'None', u'notes': u'None', u'created_date': u'None', u'label': u'Genetic_disposition16', u'y': None, u'x': None, u'notes_factor': u'None', u'threshold': 0, u'temp_aspect_id': u'None', u'id': 16}, u'1': {u'sup_lit': None, u'temp_imp_id': u'None', u'notes': u'None', u'created_date': u'None', u'label': u'Stress1', u'y': None, u'x': None, u'notes_factor': u'None', u'threshold': 0, u'temp_aspect_id': u'None', u'id': 1}, u'3': {u'sup_lit': None, u'temp_imp_id': u'None', u'notes': u'None', u'created_date': u'None', u'label': u'Neuroticism3', u'y': None, u'x': None, u'notes_factor': u'None', u'threshold': 0, u'temp_aspect_id': u'None', u'id': 3}, u'2': {u'sup_lit': None, u'temp_imp_id': u'None', u'notes': u'None', u'created_date': u'None', u'label': u'Negative_attributional_style2', u'y': None, u'x': None, u'notes_factor': u'None', u'threshold': 0, u'temp_aspect_id': u'None', u'id': 2}, u'5': {u'sup_lit': None, u'temp_imp_id': u'None', u'notes': u'None', u'created_date': u'None', u'label': u'Dysfunctional_believes5', u'y': None, u'x': None, u'notes_factor': u'None', u'threshold': 0, u'temp_aspect_id': u'None', u'id': 5}, u'4': {u'sup_lit': None, u'temp_imp_id': u'None', u'notes': u'None', u'created_date': u'None', u'label': u'Dysfunctional_attitudes4', u'y': None, u'x': None, u'notes_factor': u'None', u'threshold': 0, u'temp_aspect_id': u'None', u'id': 4}, u'7': {u'sup_lit': None, u'temp_imp_id': u'None', u'notes': u'None', u'created_date': u'None', u'label': u'Negative_emotionality7', u'y': None, u'x': None, u'notes_factor': u'None', u'threshold': 0, u'temp_aspect_id': u'None', u'id': 7}, u'6': {u'sup_lit': None, u'temp_imp_id': u'None', u'notes': u'None', u'created_date': u'None', u'label': u'Residual_depressive_symptoms6', u'y': None, u'x': None, u'notes_factor': u'None', u'threshold': 0, u'temp_aspect_id': u'None', u'id': 6}, u'9': {u'sup_lit': None, u'temp_imp_id': u'None', u'notes': u'None', u'created_date': u'None', u'label': u'Age9', u'y': None, u'x': None, u'notes_factor': u'None', u'threshold': 0, u'temp_aspect_id': u'None', u'id': 9}, u'8': {u'sup_lit': None, u'temp_imp_id': u'None', u'notes': u'None', u'created_date': u'None', u'label': u'Response_style8', u'y': None, u'x': None, u'notes_factor': u'None', u'threshold': 0, u'temp_aspect_id': u'None', u'id': 8}}, u'edges': {u'1': {u'sup_lit': u'None', u'operator_id': u'None', u'notes_relation': u'None', u'relation_weight': u'None', u'arrows': u'to', u'label': u'121', u'to': u'2', u'temp_aspect_id': u'None', u'created_date': u'None', u'from': u'1', u'temp_imp_id': u'None', u'id': 1}, u'3': {u'sup_lit': u'None', u'operator_id': u'None', u'notes_relation': u'None', u'relation_weight': u'None', u'arrows': u'to', u'label': u'143', u'to': u'4', u'temp_aspect_id': u'None', u'created_date': u'None', u'from': u'1', u'temp_imp_id': u'None', u'id': 3}, u'2': {u'sup_lit': u'None', u'operator_id': u'None', u'notes_relation': u'None', u'relation_weight': u'None', u'arrows': u'to', u'label': u'132', u'to': u'3', u'temp_aspect_id': u'None', u'created_date': u'None', u'from': u'1', u'temp_imp_id': u'None', u'id': 2}, u'5': {u'sup_lit': u'None', u'operator_id': u'None', u'notes_relation': u'None', u'relation_weight': u'None', u'arrows': u'to', u'label': u'735', u'to': u'3', u'temp_aspect_id': u'None', u'created_date': u'None', u'from': u'7', u'temp_imp_id': u'None', u'id': 5}, u'4': {u'sup_lit': u'None', u'operator_id': u'None', u'notes_relation': u'None', u'relation_weight': u'None', u'arrows': u'to', u'label': u'154', u'to': u'5', u'temp_aspect_id': u'None', u'created_date': u'None', u'from': u'1', u'temp_imp_id': u'None', u'id': 4}, u'6': {u'sup_lit': u'None', u'operator_id': u'None', u'notes_relation': u'None', u'relation_weight': u'None', u'arrows': u'to', u'label': u'10116', u'to': u'11', u'temp_aspect_id': u'None', u'created_date': u'None', u'from': u'10', u'temp_imp_id': u'None', u'id': 6}}, u'format': u'json'}\n"
     ]
    }
   ],
   "source": [
    "filename = \"depression_network_data.json\"\n",
    "with open(filename, 'r') as f:\n",
    "    data = json.load(f)\n",
    "print(data)\n",
    "G = nx.DiGraph()\n",
    "G.add_nodes_from([(data[\"nodes\"][node][\"id\"], {\"threshold\": data[\"nodes\"][node][\"threshold\"]}) for node in data[\"nodes\"]])\n",
    "edges = [(data[\"edges\"][node][\"from\"], data[\"edges\"][node][\"to\"], {\"weight\":data[\"edges\"][node][\"relation_weight\"]}) if data[\"edges\"][node][\"relation_weight\"] != \"None\" else (data[\"edges\"][node][\"from\"], data[\"edges\"][node][\"to\"], {\"weight\":1}) for node in data[\"edges\"]]\n",
    "G.add_edges_from(edges)\n",
    "\n",
    "nx.write_gpickle(G, 'depression_network_data.pkl')\n"
>>>>>>> fd305919d27b64cdef0b41cb2aac0075e2ff6b3f
   ]
  },
  {
   "cell_type": "code",
<<<<<<< HEAD
   "execution_count": 2,
   "metadata": {},
   "outputs": [
    {
     "ename": "IOError",
     "evalue": "[Errno 2] No such file or directory: 'circlePacking.pkl'",
     "output_type": "error",
     "traceback": [
      "\u001b[0;31m---------------------------------------------------------------------------\u001b[0m",
      "\u001b[0;31mIOError\u001b[0m                                   Traceback (most recent call last)",
      "\u001b[0;32m<ipython-input-2-373fe4bef91f>\u001b[0m in \u001b[0;36m<module>\u001b[0;34m()\u001b[0m\n\u001b[1;32m      1\u001b[0m \u001b[0mfilename\u001b[0m \u001b[0;34m=\u001b[0m \u001b[0;34m\"circlePacking.pkl\"\u001b[0m\u001b[0;34m\u001b[0m\u001b[0m\n\u001b[0;32m----> 2\u001b[0;31m \u001b[0mdata\u001b[0m \u001b[0;34m=\u001b[0m \u001b[0mpd\u001b[0m\u001b[0;34m.\u001b[0m\u001b[0mread_pickle\u001b[0m\u001b[0;34m(\u001b[0m\u001b[0mfilename\u001b[0m\u001b[0;34m)\u001b[0m\u001b[0;34m\u001b[0m\u001b[0m\n\u001b[0m",
      "\u001b[0;32m/home/bdlc/Envs/psychoSite/local/lib/python2.7/site-packages/pandas/io/pickle.pyc\u001b[0m in \u001b[0;36mread_pickle\u001b[0;34m(path, compression)\u001b[0m\n\u001b[1;32m    175\u001b[0m                     lambda f: pc.load(f, encoding=encoding, compat=True))\n\u001b[1;32m    176\u001b[0m     \u001b[0;32mtry\u001b[0m\u001b[0;34m:\u001b[0m\u001b[0;34m\u001b[0m\u001b[0m\n\u001b[0;32m--> 177\u001b[0;31m         \u001b[0;32mreturn\u001b[0m \u001b[0mtry_read\u001b[0m\u001b[0;34m(\u001b[0m\u001b[0mpath\u001b[0m\u001b[0;34m)\u001b[0m\u001b[0;34m\u001b[0m\u001b[0m\n\u001b[0m\u001b[1;32m    178\u001b[0m     \u001b[0;32mexcept\u001b[0m\u001b[0;34m:\u001b[0m\u001b[0;34m\u001b[0m\u001b[0m\n\u001b[1;32m    179\u001b[0m         \u001b[0;32mif\u001b[0m \u001b[0mPY3\u001b[0m\u001b[0;34m:\u001b[0m\u001b[0;34m\u001b[0m\u001b[0m\n",
      "\u001b[0;32m/home/bdlc/Envs/psychoSite/local/lib/python2.7/site-packages/pandas/io/pickle.pyc\u001b[0m in \u001b[0;36mtry_read\u001b[0;34m(path, encoding)\u001b[0m\n\u001b[1;32m    173\u001b[0m             \u001b[0;32mexcept\u001b[0m\u001b[0;34m:\u001b[0m\u001b[0;34m\u001b[0m\u001b[0m\n\u001b[1;32m    174\u001b[0m                 return read_wrapper(\n\u001b[0;32m--> 175\u001b[0;31m                     lambda f: pc.load(f, encoding=encoding, compat=True))\n\u001b[0m\u001b[1;32m    176\u001b[0m     \u001b[0;32mtry\u001b[0m\u001b[0;34m:\u001b[0m\u001b[0;34m\u001b[0m\u001b[0m\n\u001b[1;32m    177\u001b[0m         \u001b[0;32mreturn\u001b[0m \u001b[0mtry_read\u001b[0m\u001b[0;34m(\u001b[0m\u001b[0mpath\u001b[0m\u001b[0;34m)\u001b[0m\u001b[0;34m\u001b[0m\u001b[0m\n",
      "\u001b[0;32m/home/bdlc/Envs/psychoSite/local/lib/python2.7/site-packages/pandas/io/pickle.pyc\u001b[0m in \u001b[0;36mread_wrapper\u001b[0;34m(func)\u001b[0m\n\u001b[1;32m    145\u001b[0m         f, fh = _get_handle(path, 'rb',\n\u001b[1;32m    146\u001b[0m                             \u001b[0mcompression\u001b[0m\u001b[0;34m=\u001b[0m\u001b[0minferred_compression\u001b[0m\u001b[0;34m,\u001b[0m\u001b[0;34m\u001b[0m\u001b[0m\n\u001b[0;32m--> 147\u001b[0;31m                             is_text=False)\n\u001b[0m\u001b[1;32m    148\u001b[0m         \u001b[0;32mtry\u001b[0m\u001b[0;34m:\u001b[0m\u001b[0;34m\u001b[0m\u001b[0m\n\u001b[1;32m    149\u001b[0m             \u001b[0;32mreturn\u001b[0m \u001b[0mfunc\u001b[0m\u001b[0;34m(\u001b[0m\u001b[0mf\u001b[0m\u001b[0;34m)\u001b[0m\u001b[0;34m\u001b[0m\u001b[0m\n",
      "\u001b[0;32m/home/bdlc/Envs/psychoSite/local/lib/python2.7/site-packages/pandas/io/common.pyc\u001b[0m in \u001b[0;36m_get_handle\u001b[0;34m(path_or_buf, mode, encoding, compression, memory_map, is_text)\u001b[0m\n\u001b[1;32m    395\u001b[0m         \u001b[0;32mif\u001b[0m \u001b[0mcompat\u001b[0m\u001b[0;34m.\u001b[0m\u001b[0mPY2\u001b[0m\u001b[0;34m:\u001b[0m\u001b[0;34m\u001b[0m\u001b[0m\n\u001b[1;32m    396\u001b[0m             \u001b[0;31m# Python 2\u001b[0m\u001b[0;34m\u001b[0m\u001b[0;34m\u001b[0m\u001b[0m\n\u001b[0;32m--> 397\u001b[0;31m             \u001b[0mf\u001b[0m \u001b[0;34m=\u001b[0m \u001b[0mopen\u001b[0m\u001b[0;34m(\u001b[0m\u001b[0mpath_or_buf\u001b[0m\u001b[0;34m,\u001b[0m \u001b[0mmode\u001b[0m\u001b[0;34m)\u001b[0m\u001b[0;34m\u001b[0m\u001b[0m\n\u001b[0m\u001b[1;32m    398\u001b[0m         \u001b[0;32melif\u001b[0m \u001b[0mencoding\u001b[0m\u001b[0;34m:\u001b[0m\u001b[0;34m\u001b[0m\u001b[0m\n\u001b[1;32m    399\u001b[0m             \u001b[0;31m# Python 3 and encoding\u001b[0m\u001b[0;34m\u001b[0m\u001b[0;34m\u001b[0m\u001b[0m\n",
      "\u001b[0;31mIOError\u001b[0m: [Errno 2] No such file or directory: 'circlePacking.pkl'"
     ]
    }
   ],
   "source": [
    "filename = \"development.pkl\"\n",
    "data = pd.read_pickle(filename)"
=======
   "execution_count": 12,
   "metadata": {},
   "outputs": [
    {
     "name": "stdout",
     "output_type": "stream",
     "text": [
      "[u'Response_style8', u'Age9', u'Dysfunctional_believes5', u'Sex10', u'Negative_emotionality7', u'1', u'C_reactive_protein15', u'3', u'2', u'5', u'Dysfunctional_attitudes4', u'7', u'4', u'Residual_depressive_symptoms6', u'Baseline_depression_symptoms11', u'Neuroticism3', u'Cortisol14', u'Genetic_disposition16', u'11', u'10', u'Latent_dysfunctional_cognition12', u'Immunology_markers13', u'Negative_attributional_style2', u'Stress1']\n"
     ]
    },
    {
     "data": {
      "image/png": "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\n",
      "text/plain": [
       "<Figure size 432x288 with 1 Axes>"
      ]
     },
     "metadata": {
      "needs_background": "light"
     },
     "output_type": "display_data"
    }
   ],
   "source": [
    "y = nx.read_gpickle('depression_network_data.pkl')\n",
    "    \n",
    "data = adjacencyData(y)\n",
    "data.plotGraph()"
   ]
  },
  {
   "cell_type": "code",
   "execution_count": null,
   "metadata": {},
   "outputs": [],
   "source": [
    "\n",
    "for k in data.thresholdIndex:\n",
    "    print(str(k.keys()[0]) + \"\\t\" + str(k[k.keys()[0]]) + \"\\n\")"
   ]
  },
  {
   "cell_type": "code",
   "execution_count": null,
   "metadata": {},
   "outputs": [],
   "source": [
    "string = \"\"\n",
    "file = open(\"test.txt\", \"w\")\n",
    "string += \"\\t\".join([d for d in data.var]) + \"\\n\"\n",
    "for row in data.adjacencyMatrix.tolist():\n",
    "    string += \"\\t\".join(['{:.1f}'.format(x) for x in row])+\"\\n\"\n",
    "file.write(string)\n",
    "file.close()\n",
    "\n",
    "string = \"\"\n",
    "file = open(\"tweede.txt\", \"w\")\n",
    "string += \"var,threshold\\n\"\n",
    "for k in data.thresholdIndex:\n",
    "    string += str(k.keys()[0]) + \", \" + str(k[k.keys()[0]]) + \"\\n\"\n",
    "file.write(string)\n",
    "file.close()\n",
    "    "
   ]
  },
  {
   "cell_type": "code",
   "execution_count": null,
   "metadata": {},
   "outputs": [],
   "source": [
    "for row in data.adjacencyMatrix.tolist():\n",
    "    print(\"\\t\".join(['{:.1f}'.format(x) for x in row]))"
>>>>>>> fd305919d27b64cdef0b41cb2aac0075e2ff6b3f
   ]
  }
 ],
 "metadata": {
  "kernelspec": {
   "display_name": "Python 2",
   "language": "python",
   "name": "python2"
  },
  "language_info": {
   "codemirror_mode": {
    "name": "ipython",
    "version": 2
   },
   "file_extension": ".py",
   "mimetype": "text/x-python",
   "name": "python",
   "nbconvert_exporter": "python",
   "pygments_lexer": "ipython2",
   "version": "2.7.12"
  }
 },
 "nbformat": 4,
 "nbformat_minor": 2
}
